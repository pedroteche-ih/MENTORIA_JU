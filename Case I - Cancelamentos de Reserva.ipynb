{
 "cells": [
  {
   "cell_type": "code",
   "execution_count": 16,
   "metadata": {},
   "outputs": [
    {
     "name": "stdout",
     "output_type": "stream",
     "text": [
      "Requirement already satisfied: pandas in /home/postal/anaconda3/envs/mentoria/lib/python3.8/site-packages (1.4.3)\n",
      "Requirement already satisfied: numpy>=1.18.5 in /home/postal/anaconda3/envs/mentoria/lib/python3.8/site-packages (from pandas) (1.23.0)\n",
      "Requirement already satisfied: pytz>=2020.1 in /home/postal/anaconda3/envs/mentoria/lib/python3.8/site-packages (from pandas) (2022.1)\n",
      "Requirement already satisfied: python-dateutil>=2.8.1 in /home/postal/anaconda3/envs/mentoria/lib/python3.8/site-packages (from pandas) (2.8.2)\n",
      "Requirement already satisfied: six>=1.5 in /home/postal/anaconda3/envs/mentoria/lib/python3.8/site-packages (from python-dateutil>=2.8.1->pandas) (1.16.0)\n",
      "Requirement already satisfied: seaborn in /home/postal/anaconda3/envs/mentoria/lib/python3.8/site-packages (0.11.2)\n",
      "Requirement already satisfied: matplotlib>=2.2 in /home/postal/anaconda3/envs/mentoria/lib/python3.8/site-packages (from seaborn) (3.5.2)\n",
      "Requirement already satisfied: numpy>=1.15 in /home/postal/anaconda3/envs/mentoria/lib/python3.8/site-packages (from seaborn) (1.23.0)\n",
      "Requirement already satisfied: scipy>=1.0 in /home/postal/anaconda3/envs/mentoria/lib/python3.8/site-packages (from seaborn) (1.8.1)\n",
      "Requirement already satisfied: pandas>=0.23 in /home/postal/anaconda3/envs/mentoria/lib/python3.8/site-packages (from seaborn) (1.4.3)\n",
      "Requirement already satisfied: fonttools>=4.22.0 in /home/postal/anaconda3/envs/mentoria/lib/python3.8/site-packages (from matplotlib>=2.2->seaborn) (4.33.3)\n",
      "Requirement already satisfied: python-dateutil>=2.7 in /home/postal/anaconda3/envs/mentoria/lib/python3.8/site-packages (from matplotlib>=2.2->seaborn) (2.8.2)\n",
      "Requirement already satisfied: kiwisolver>=1.0.1 in /home/postal/anaconda3/envs/mentoria/lib/python3.8/site-packages (from matplotlib>=2.2->seaborn) (1.4.3)\n",
      "Requirement already satisfied: cycler>=0.10 in /home/postal/anaconda3/envs/mentoria/lib/python3.8/site-packages (from matplotlib>=2.2->seaborn) (0.11.0)\n",
      "Requirement already satisfied: packaging>=20.0 in /home/postal/anaconda3/envs/mentoria/lib/python3.8/site-packages (from matplotlib>=2.2->seaborn) (21.3)\n",
      "Requirement already satisfied: pillow>=6.2.0 in /home/postal/anaconda3/envs/mentoria/lib/python3.8/site-packages (from matplotlib>=2.2->seaborn) (9.2.0)\n",
      "Requirement already satisfied: pyparsing>=2.2.1 in /home/postal/anaconda3/envs/mentoria/lib/python3.8/site-packages (from matplotlib>=2.2->seaborn) (3.0.9)\n",
      "Requirement already satisfied: pytz>=2020.1 in /home/postal/anaconda3/envs/mentoria/lib/python3.8/site-packages (from pandas>=0.23->seaborn) (2022.1)\n",
      "Requirement already satisfied: six>=1.5 in /home/postal/anaconda3/envs/mentoria/lib/python3.8/site-packages (from python-dateutil>=2.7->matplotlib>=2.2->seaborn) (1.16.0)\n",
      "Collecting scikit-learn\n",
      "  Downloading scikit_learn-1.1.1-cp38-cp38-manylinux_2_17_x86_64.manylinux2014_x86_64.whl (31.2 MB)\n",
      "\u001b[K     |████████████████████████████████| 31.2 MB 1.1 MB/s eta 0:00:01\n",
      "\u001b[?25hRequirement already satisfied: scipy>=1.3.2 in /home/postal/anaconda3/envs/mentoria/lib/python3.8/site-packages (from scikit-learn) (1.8.1)\n",
      "Collecting joblib>=1.0.0\n",
      "  Downloading joblib-1.1.0-py2.py3-none-any.whl (306 kB)\n",
      "\u001b[K     |████████████████████████████████| 306 kB 70.2 MB/s eta 0:00:01\n",
      "\u001b[?25hRequirement already satisfied: numpy>=1.17.3 in /home/postal/anaconda3/envs/mentoria/lib/python3.8/site-packages (from scikit-learn) (1.23.0)\n",
      "Collecting threadpoolctl>=2.0.0\n",
      "  Downloading threadpoolctl-3.1.0-py3-none-any.whl (14 kB)\n",
      "Installing collected packages: threadpoolctl, joblib, scikit-learn\n",
      "Successfully installed joblib-1.1.0 scikit-learn-1.1.1 threadpoolctl-3.1.0\n"
     ]
    }
   ],
   "source": [
    "!pip install pandas\n",
    "!pip install seaborn\n",
    "!pip install scikit-learn"
   ]
  },
  {
   "cell_type": "code",
   "execution_count": 3,
   "metadata": {},
   "outputs": [],
   "source": [
    "import pandas as pd\n",
    "import seaborn as sns\n",
    "from sklearn.linear_model import LogisticRegression"
   ]
  },
  {
   "cell_type": "markdown",
   "metadata": {},
   "source": [
    "# Case I - Cancelamentos de Reserva\n",
    "\n",
    "Construir dois modelos para prever o cancelamento de reservas:\n",
    "\n",
    "- O primeiro é para um cliente que vive uma realidade de dados muito rudimentar. Logo, o modelo precisa ser simples, de forma a aprofundar o entendimento do cliente sobre o fenômeno modelado.\n",
    "- O segundo é para um cliente que tem uma infrasetrutura de dados extremamente desenvolvida. O modelo será utilizado para fazer previsões no momento de cada reserva, estimando a probabilidade de cancelamento desta.\n",
    "\n",
    "https://www.sciencedirect.com/science/article/pii/S2352340918315191"
   ]
  },
  {
   "cell_type": "code",
   "execution_count": 4,
   "metadata": {},
   "outputs": [
    {
     "name": "stdout",
     "output_type": "stream",
     "text": [
      "<class 'pandas.core.frame.DataFrame'>\n",
      "RangeIndex: 113409 entries, 0 to 113408\n",
      "Data columns (total 29 columns):\n",
      " #   Column                          Non-Null Count   Dtype  \n",
      "---  ------                          --------------   -----  \n",
      " 0   hotel                           113409 non-null  object \n",
      " 1   is_cancelled                    113409 non-null  int64  \n",
      " 2   lead_time                       113409 non-null  int64  \n",
      " 3   stays_in_weekend_nights         113409 non-null  int64  \n",
      " 4   stays_in_week_nights            113409 non-null  int64  \n",
      " 5   adults                          113409 non-null  int64  \n",
      " 6   children                        113406 non-null  float64\n",
      " 7   babies                          113409 non-null  int64  \n",
      " 8   meal                            113409 non-null  object \n",
      " 9   country                         112951 non-null  object \n",
      " 10  market_segment                  113409 non-null  object \n",
      " 11  distribution_channel            113409 non-null  object \n",
      " 12  is_repeated_guest               113409 non-null  int64  \n",
      " 13  previous_cancellations          113409 non-null  int64  \n",
      " 14  previous_bookings_not_canceled  113409 non-null  int64  \n",
      " 15  reserved_room_type              113409 non-null  object \n",
      " 16  assigned_room_type              113409 non-null  object \n",
      " 17  booking_changes                 113409 non-null  int64  \n",
      " 18  deposit_type                    113409 non-null  object \n",
      " 19  agent                           97918 non-null   float64\n",
      " 20  company                         6437 non-null    float64\n",
      " 21  days_in_waiting_list            113409 non-null  int64  \n",
      " 22  customer_type                   113409 non-null  object \n",
      " 23  adr                             113409 non-null  float64\n",
      " 24  required_car_parking_spaces     113409 non-null  int64  \n",
      " 25  total_of_special_requests       113409 non-null  int64  \n",
      " 26  reservation_status_date         113409 non-null  object \n",
      " 27  arrival_date                    113409 non-null  object \n",
      " 28  id_booking                      113409 non-null  int64  \n",
      "dtypes: float64(4), int64(14), object(11)\n",
      "memory usage: 25.1+ MB\n"
     ]
    }
   ],
   "source": [
    "tb_hotel = pd.read_csv('data/tb_hotel_traintest.csv')\n",
    "tb_hotel.info()"
   ]
  },
  {
   "cell_type": "markdown",
   "metadata": {},
   "source": [
    "## Exercício I\n",
    "\n",
    "A primeira etapa na construção de um modelo é a etapa de formulação de hipóteses a respeito do fenômeno que queremos modelar. Embora o avanço da disponibilidade de capacidade computacional e de dados coletados nos permita adotar uma metodologia que parte de uma exploração direta do dataset, neste exercicio buscaremos trabalhar a formulação de hipóteses independente dos dados.\n",
    "\n",
    "O objetivo é formular hipóteses sobre os fatores e mecânismos que aumentam ou diminuem a probabilidade de uma reserva ser cancelada. Podemos utilizar uma metodologia como os 5-Porques (https://en.wikipedia.org/wiki/Five_whys) para facilitar e nos guiar nesse processo, mas esse é um exercício de devaneio e imaginação!!"
   ]
  },
  {
   "cell_type": "markdown",
   "metadata": {},
   "source": [
    "**As respostas estão no .txt \"case I - analise de hipoteses\"**"
   ]
  },
  {
   "cell_type": "markdown",
   "metadata": {},
   "source": [
    "## Visualizando os dados"
   ]
  },
  {
   "cell_type": "code",
   "execution_count": 5,
   "metadata": {},
   "outputs": [
    {
     "data": {
      "text/plain": [
       "<AxesSubplot:xlabel='lead_time', ylabel='Count'>"
      ]
     },
     "execution_count": 5,
     "metadata": {},
     "output_type": "execute_result"
    },
    {
     "data": {
      "image/png": "[encoded data removed]",
      "text/plain": [
       "<Figure size 432x288 with 1 Axes>"
      ]
     },
     "metadata": {
      "needs_background": "light"
     },
     "output_type": "display_data"
    }
   ],
   "source": [
    "sns.histplot(data=tb_hotel, x='lead_time', hue='is_cancelled')"
   ]
  },
  {
   "cell_type": "markdown",
   "metadata": {},
   "source": [
    "Histogramas não são bons de visualizar dados desbalanceados, a visão é mais focada no comportamento individual da variável. Melhor usar um boxplot pois a visão é do ponto de vista dos quartis, ou seja, temos uma visão do comportamento do agrupamento das variáveis, assim o gráfico além de fornecer mais informações, não fica poluido e confuso."
   ]
  },
  {
   "cell_type": "code",
   "execution_count": 6,
   "metadata": {},
   "outputs": [
    {
     "data": {
      "text/plain": [
       "<AxesSubplot:xlabel='is_cancelled', ylabel='lead_time'>"
      ]
     },
     "execution_count": 6,
     "metadata": {},
     "output_type": "execute_result"
    },
    {
     "data": {
      "image/png": "[encoded data removed]",
      "text/plain": [
       "<Figure size 432x288 with 1 Axes>"
      ]
     },
     "metadata": {
      "needs_background": "light"
     },
     "output_type": "display_data"
    }
   ],
   "source": [
    "sns.boxplot(data=tb_hotel, y='lead_time', x='is_cancelled') # Melhor de visualizar classes desbalanceadas."
   ]
  },
  {
   "cell_type": "code",
   "execution_count": 7,
   "metadata": {},
   "outputs": [
    {
     "data": {
      "text/plain": [
       "<AxesSubplot:xlabel='lead_time', ylabel='Density'>"
      ]
     },
     "execution_count": 7,
     "metadata": {},
     "output_type": "execute_result"
    },
    {
     "data": {
      "image/png": "[encoded data removed]",
      "text/plain": [
       "<Figure size 432x288 with 1 Axes>"
      ]
     },
     "metadata": {
      "needs_background": "light"
     },
     "output_type": "display_data"
    }
   ],
   "source": [
    "sns.kdeplot(data=tb_hotel, x='lead_time')"
   ]
  },
  {
   "cell_type": "markdown",
   "metadata": {},
   "source": [
    "## Analisando o impacto do Lead Time nos cancelamentos usando Regressão Logística "
   ]
  },
  {
   "cell_type": "code",
   "execution_count": 8,
   "metadata": {},
   "outputs": [],
   "source": [
    "model = LogisticRegression()\n",
    "model.fit(tb_hotel[['lead_time']], tb_hotel['is_cancelled'])\n",
    "tb_hotel['pred_lead_time'] = model.predict_proba(tb_hotel[['lead_time']])[:,1]"
   ]
  },
  {
   "cell_type": "code",
   "execution_count": 9,
   "metadata": {},
   "outputs": [
    {
     "data": {
      "text/plain": [
       "array([0.69842564, 0.95917118, 0.24506141, ..., 0.27552691, 0.37125247,\n",
       "       0.50905894])"
      ]
     },
     "execution_count": 9,
     "metadata": {},
     "output_type": "execute_result"
    }
   ],
   "source": [
    "model.predict_proba(tb_hotel[['lead_time']])[:,1]"
   ]
  },
  {
   "cell_type": "code",
   "execution_count": 10,
   "metadata": {},
   "outputs": [
    {
     "data": {
      "text/plain": [
       "<AxesSubplot:xlabel='lead_time', ylabel='pred_lead_time'>"
      ]
     },
     "execution_count": 10,
     "metadata": {},
     "output_type": "execute_result"
    },
    {
     "data": {
      "image/png": "[encoded data removed]",
      "text/plain": [
       "<Figure size 432x288 with 1 Axes>"
      ]
     },
     "metadata": {
      "needs_background": "light"
     },
     "output_type": "display_data"
    }
   ],
   "source": [
    "sns.scatterplot(data=tb_hotel, x='lead_time', y='pred_lead_time')"
   ]
  },
  {
   "cell_type": "markdown",
   "metadata": {},
   "source": [
    "Observamos que de fato a chance de cancelamentos cresce à medida que o Lead Time aumenta. **Mas atenção às bordas da curva:** Na borda inferior por exemplo, por que temos cancelamentos em Lead Time = 0? É erro do modelo? Esses dados existem no Dataset? Vamos analisar:"
   ]
  },
  {
   "cell_type": "markdown",
   "metadata": {},
   "source": [
    "#### Primeiro verificando no Dataset se existem variáveis onde há cancelamentos em Lead Time = 0"
   ]
  },
  {
   "cell_type": "code",
   "execution_count": 11,
   "metadata": {},
   "outputs": [],
   "source": [
    "cancelamentos_na_hora = tb_hotel.loc[(tb_hotel['lead_time'] == 0) & (tb_hotel['is_cancelled'] == 1)]"
   ]
  },
  {
   "cell_type": "code",
   "execution_count": 12,
   "metadata": {},
   "outputs": [
    {
     "data": {
      "text/plain": [
       "(5596, 30)"
      ]
     },
     "execution_count": 12,
     "metadata": {},
     "output_type": "execute_result"
    }
   ],
   "source": [
    "tb_hotel.loc[(tb_hotel['lead_time'] == 0) & (tb_hotel['is_cancelled'] == 0)].shape # 5596 não cancelamentos na hora. "
   ]
  },
  {
   "cell_type": "code",
   "execution_count": 15,
   "metadata": {},
   "outputs": [
    {
     "data": {
      "text/html": [
       "<div>\n",
       "<style scoped>\n",
       "    .dataframe tbody tr th:only-of-type {\n",
       "        vertical-align: middle;\n",
       "    }\n",
       "\n",
       "    .dataframe tbody tr th {\n",
       "        vertical-align: top;\n",
       "    }\n",
       "\n",
       "    .dataframe thead th {\n",
       "        text-align: right;\n",
       "    }\n",
       "</style>\n",
       "<table border=\"1\" class=\"dataframe\">\n",
       "  <thead>\n",
       "    <tr style=\"text-align: right;\">\n",
       "      <th></th>\n",
       "      <th>hotel</th>\n",
       "      <th>is_cancelled</th>\n",
       "      <th>lead_time</th>\n",
       "      <th>stays_in_weekend_nights</th>\n",
       "      <th>stays_in_week_nights</th>\n",
       "      <th>adults</th>\n",
       "      <th>children</th>\n",
       "      <th>babies</th>\n",
       "      <th>meal</th>\n",
       "      <th>country</th>\n",
       "      <th>...</th>\n",
       "      <th>company</th>\n",
       "      <th>days_in_waiting_list</th>\n",
       "      <th>customer_type</th>\n",
       "      <th>adr</th>\n",
       "      <th>required_car_parking_spaces</th>\n",
       "      <th>total_of_special_requests</th>\n",
       "      <th>reservation_status_date</th>\n",
       "      <th>arrival_date</th>\n",
       "      <th>id_booking</th>\n",
       "      <th>pred_lead_time</th>\n",
       "    </tr>\n",
       "  </thead>\n",
       "  <tbody>\n",
       "    <tr>\n",
       "      <th>418</th>\n",
       "      <td>Resort Hotel</td>\n",
       "      <td>1</td>\n",
       "      <td>0</td>\n",
       "      <td>0</td>\n",
       "      <td>1</td>\n",
       "      <td>2</td>\n",
       "      <td>0.0</td>\n",
       "      <td>0</td>\n",
       "      <td>BB</td>\n",
       "      <td>PRT</td>\n",
       "      <td>...</td>\n",
       "      <td>NaN</td>\n",
       "      <td>0</td>\n",
       "      <td>Transient</td>\n",
       "      <td>123.2</td>\n",
       "      <td>0</td>\n",
       "      <td>0</td>\n",
       "      <td>2015-07-16</td>\n",
       "      <td>2015-07-16</td>\n",
       "      <td>438</td>\n",
       "      <td>0.237545</td>\n",
       "    </tr>\n",
       "    <tr>\n",
       "      <th>481</th>\n",
       "      <td>Resort Hotel</td>\n",
       "      <td>1</td>\n",
       "      <td>0</td>\n",
       "      <td>0</td>\n",
       "      <td>1</td>\n",
       "      <td>2</td>\n",
       "      <td>0.0</td>\n",
       "      <td>0</td>\n",
       "      <td>BB</td>\n",
       "      <td>PRT</td>\n",
       "      <td>...</td>\n",
       "      <td>NaN</td>\n",
       "      <td>0</td>\n",
       "      <td>Transient</td>\n",
       "      <td>136.0</td>\n",
       "      <td>0</td>\n",
       "      <td>0</td>\n",
       "      <td>2015-07-17</td>\n",
       "      <td>2015-07-17</td>\n",
       "      <td>504</td>\n",
       "      <td>0.237545</td>\n",
       "    </tr>\n",
       "    <tr>\n",
       "      <th>763</th>\n",
       "      <td>Resort Hotel</td>\n",
       "      <td>1</td>\n",
       "      <td>0</td>\n",
       "      <td>0</td>\n",
       "      <td>1</td>\n",
       "      <td>1</td>\n",
       "      <td>0.0</td>\n",
       "      <td>0</td>\n",
       "      <td>BB</td>\n",
       "      <td>PRT</td>\n",
       "      <td>...</td>\n",
       "      <td>270.0</td>\n",
       "      <td>0</td>\n",
       "      <td>Transient</td>\n",
       "      <td>114.0</td>\n",
       "      <td>0</td>\n",
       "      <td>0</td>\n",
       "      <td>2015-07-30</td>\n",
       "      <td>2015-07-30</td>\n",
       "      <td>796</td>\n",
       "      <td>0.237545</td>\n",
       "    </tr>\n",
       "    <tr>\n",
       "      <th>872</th>\n",
       "      <td>Resort Hotel</td>\n",
       "      <td>1</td>\n",
       "      <td>0</td>\n",
       "      <td>0</td>\n",
       "      <td>1</td>\n",
       "      <td>2</td>\n",
       "      <td>0.0</td>\n",
       "      <td>0</td>\n",
       "      <td>BB</td>\n",
       "      <td>PRT</td>\n",
       "      <td>...</td>\n",
       "      <td>NaN</td>\n",
       "      <td>0</td>\n",
       "      <td>Transient</td>\n",
       "      <td>172.0</td>\n",
       "      <td>0</td>\n",
       "      <td>1</td>\n",
       "      <td>2015-08-05</td>\n",
       "      <td>2015-08-05</td>\n",
       "      <td>909</td>\n",
       "      <td>0.237545</td>\n",
       "    </tr>\n",
       "    <tr>\n",
       "      <th>1596</th>\n",
       "      <td>Resort Hotel</td>\n",
       "      <td>1</td>\n",
       "      <td>0</td>\n",
       "      <td>0</td>\n",
       "      <td>1</td>\n",
       "      <td>1</td>\n",
       "      <td>0.0</td>\n",
       "      <td>0</td>\n",
       "      <td>BB</td>\n",
       "      <td>PRT</td>\n",
       "      <td>...</td>\n",
       "      <td>NaN</td>\n",
       "      <td>0</td>\n",
       "      <td>Transient</td>\n",
       "      <td>146.0</td>\n",
       "      <td>0</td>\n",
       "      <td>2</td>\n",
       "      <td>2015-09-09</td>\n",
       "      <td>2015-09-09</td>\n",
       "      <td>1673</td>\n",
       "      <td>0.237545</td>\n",
       "    </tr>\n",
       "    <tr>\n",
       "      <th>...</th>\n",
       "      <td>...</td>\n",
       "      <td>...</td>\n",
       "      <td>...</td>\n",
       "      <td>...</td>\n",
       "      <td>...</td>\n",
       "      <td>...</td>\n",
       "      <td>...</td>\n",
       "      <td>...</td>\n",
       "      <td>...</td>\n",
       "      <td>...</td>\n",
       "      <td>...</td>\n",
       "      <td>...</td>\n",
       "      <td>...</td>\n",
       "      <td>...</td>\n",
       "      <td>...</td>\n",
       "      <td>...</td>\n",
       "      <td>...</td>\n",
       "      <td>...</td>\n",
       "      <td>...</td>\n",
       "      <td>...</td>\n",
       "      <td>...</td>\n",
       "    </tr>\n",
       "    <tr>\n",
       "      <th>93851</th>\n",
       "      <td>City Hotel</td>\n",
       "      <td>1</td>\n",
       "      <td>0</td>\n",
       "      <td>1</td>\n",
       "      <td>0</td>\n",
       "      <td>2</td>\n",
       "      <td>0.0</td>\n",
       "      <td>0</td>\n",
       "      <td>BB</td>\n",
       "      <td>PRT</td>\n",
       "      <td>...</td>\n",
       "      <td>NaN</td>\n",
       "      <td>0</td>\n",
       "      <td>Transient</td>\n",
       "      <td>77.0</td>\n",
       "      <td>0</td>\n",
       "      <td>2</td>\n",
       "      <td>2016-12-12</td>\n",
       "      <td>2016-12-12</td>\n",
       "      <td>98809</td>\n",
       "      <td>0.237545</td>\n",
       "    </tr>\n",
       "    <tr>\n",
       "      <th>93852</th>\n",
       "      <td>City Hotel</td>\n",
       "      <td>1</td>\n",
       "      <td>0</td>\n",
       "      <td>1</td>\n",
       "      <td>0</td>\n",
       "      <td>2</td>\n",
       "      <td>0.0</td>\n",
       "      <td>0</td>\n",
       "      <td>BB</td>\n",
       "      <td>PRT</td>\n",
       "      <td>...</td>\n",
       "      <td>NaN</td>\n",
       "      <td>0</td>\n",
       "      <td>Transient</td>\n",
       "      <td>0.0</td>\n",
       "      <td>0</td>\n",
       "      <td>2</td>\n",
       "      <td>2016-12-12</td>\n",
       "      <td>2016-12-12</td>\n",
       "      <td>98810</td>\n",
       "      <td>0.237545</td>\n",
       "    </tr>\n",
       "    <tr>\n",
       "      <th>96819</th>\n",
       "      <td>City Hotel</td>\n",
       "      <td>1</td>\n",
       "      <td>0</td>\n",
       "      <td>0</td>\n",
       "      <td>1</td>\n",
       "      <td>2</td>\n",
       "      <td>0.0</td>\n",
       "      <td>0</td>\n",
       "      <td>BB</td>\n",
       "      <td>PRT</td>\n",
       "      <td>...</td>\n",
       "      <td>NaN</td>\n",
       "      <td>0</td>\n",
       "      <td>Transient</td>\n",
       "      <td>0.0</td>\n",
       "      <td>0</td>\n",
       "      <td>0</td>\n",
       "      <td>2017-06-29</td>\n",
       "      <td>2017-06-29</td>\n",
       "      <td>101930</td>\n",
       "      <td>0.237545</td>\n",
       "    </tr>\n",
       "    <tr>\n",
       "      <th>100598</th>\n",
       "      <td>City Hotel</td>\n",
       "      <td>1</td>\n",
       "      <td>0</td>\n",
       "      <td>0</td>\n",
       "      <td>1</td>\n",
       "      <td>1</td>\n",
       "      <td>0.0</td>\n",
       "      <td>0</td>\n",
       "      <td>BB</td>\n",
       "      <td>PRT</td>\n",
       "      <td>...</td>\n",
       "      <td>45.0</td>\n",
       "      <td>0</td>\n",
       "      <td>Transient</td>\n",
       "      <td>0.0</td>\n",
       "      <td>0</td>\n",
       "      <td>2</td>\n",
       "      <td>2017-04-18</td>\n",
       "      <td>2017-04-18</td>\n",
       "      <td>105909</td>\n",
       "      <td>0.237545</td>\n",
       "    </tr>\n",
       "    <tr>\n",
       "      <th>111413</th>\n",
       "      <td>City Hotel</td>\n",
       "      <td>1</td>\n",
       "      <td>0</td>\n",
       "      <td>0</td>\n",
       "      <td>2</td>\n",
       "      <td>1</td>\n",
       "      <td>0.0</td>\n",
       "      <td>0</td>\n",
       "      <td>BB</td>\n",
       "      <td>PRT</td>\n",
       "      <td>...</td>\n",
       "      <td>40.0</td>\n",
       "      <td>0</td>\n",
       "      <td>Transient</td>\n",
       "      <td>65.0</td>\n",
       "      <td>0</td>\n",
       "      <td>1</td>\n",
       "      <td>2017-08-02</td>\n",
       "      <td>2017-08-02</td>\n",
       "      <td>117295</td>\n",
       "      <td>0.237545</td>\n",
       "    </tr>\n",
       "  </tbody>\n",
       "</table>\n",
       "<p>401 rows × 30 columns</p>\n",
       "</div>"
      ],
      "text/plain": [
       "               hotel  is_cancelled  lead_time  stays_in_weekend_nights  \\\n",
       "418     Resort Hotel             1          0                        0   \n",
       "481     Resort Hotel             1          0                        0   \n",
       "763     Resort Hotel             1          0                        0   \n",
       "872     Resort Hotel             1          0                        0   \n",
       "1596    Resort Hotel             1          0                        0   \n",
       "...              ...           ...        ...                      ...   \n",
       "93851     City Hotel             1          0                        1   \n",
       "93852     City Hotel             1          0                        1   \n",
       "96819     City Hotel             1          0                        0   \n",
       "100598    City Hotel             1          0                        0   \n",
       "111413    City Hotel             1          0                        0   \n",
       "\n",
       "        stays_in_week_nights  adults  children  babies meal country  ...  \\\n",
       "418                        1       2       0.0       0   BB     PRT  ...   \n",
       "481                        1       2       0.0       0   BB     PRT  ...   \n",
       "763                        1       1       0.0       0   BB     PRT  ...   \n",
       "872                        1       2       0.0       0   BB     PRT  ...   \n",
       "1596                       1       1       0.0       0   BB     PRT  ...   \n",
       "...                      ...     ...       ...     ...  ...     ...  ...   \n",
       "93851                      0       2       0.0       0   BB     PRT  ...   \n",
       "93852                      0       2       0.0       0   BB     PRT  ...   \n",
       "96819                      1       2       0.0       0   BB     PRT  ...   \n",
       "100598                     1       1       0.0       0   BB     PRT  ...   \n",
       "111413                     2       1       0.0       0   BB     PRT  ...   \n",
       "\n",
       "       company days_in_waiting_list  customer_type    adr  \\\n",
       "418        NaN                    0      Transient  123.2   \n",
       "481        NaN                    0      Transient  136.0   \n",
       "763      270.0                    0      Transient  114.0   \n",
       "872        NaN                    0      Transient  172.0   \n",
       "1596       NaN                    0      Transient  146.0   \n",
       "...        ...                  ...            ...    ...   \n",
       "93851      NaN                    0      Transient   77.0   \n",
       "93852      NaN                    0      Transient    0.0   \n",
       "96819      NaN                    0      Transient    0.0   \n",
       "100598    45.0                    0      Transient    0.0   \n",
       "111413    40.0                    0      Transient   65.0   \n",
       "\n",
       "        required_car_parking_spaces total_of_special_requests  \\\n",
       "418                               0                         0   \n",
       "481                               0                         0   \n",
       "763                               0                         0   \n",
       "872                               0                         1   \n",
       "1596                              0                         2   \n",
       "...                             ...                       ...   \n",
       "93851                             0                         2   \n",
       "93852                             0                         2   \n",
       "96819                             0                         0   \n",
       "100598                            0                         2   \n",
       "111413                            0                         1   \n",
       "\n",
       "       reservation_status_date  arrival_date id_booking  pred_lead_time  \n",
       "418                 2015-07-16    2015-07-16        438        0.237545  \n",
       "481                 2015-07-17    2015-07-17        504        0.237545  \n",
       "763                 2015-07-30    2015-07-30        796        0.237545  \n",
       "872                 2015-08-05    2015-08-05        909        0.237545  \n",
       "1596                2015-09-09    2015-09-09       1673        0.237545  \n",
       "...                        ...           ...        ...             ...  \n",
       "93851               2016-12-12    2016-12-12      98809        0.237545  \n",
       "93852               2016-12-12    2016-12-12      98810        0.237545  \n",
       "96819               2017-06-29    2017-06-29     101930        0.237545  \n",
       "100598              2017-04-18    2017-04-18     105909        0.237545  \n",
       "111413              2017-08-02    2017-08-02     117295        0.237545  \n",
       "\n",
       "[401 rows x 30 columns]"
      ]
     },
     "execution_count": 15,
     "metadata": {},
     "output_type": "execute_result"
    }
   ],
   "source": [
    "cancelamentos_na_hora # 401 Cancelamentos na hora."
   ]
  },
  {
   "cell_type": "code",
   "execution_count": 44,
   "metadata": {},
   "outputs": [
    {
     "data": {
      "text/plain": [
       "PRT    324\n",
       "FRA     12\n",
       "ESP      8\n",
       "GBR      5\n",
       "USA      4\n",
       "AGO      4\n",
       "DEU      4\n",
       "BRA      3\n",
       "BEL      3\n",
       "CN       2\n",
       "SWE      2\n",
       "ITA      2\n",
       "NLD      2\n",
       "RUS      2\n",
       "ECU      1\n",
       "ZAF      1\n",
       "AZE      1\n",
       "BLR      1\n",
       "AUT      1\n",
       "SVK      1\n",
       "MAR      1\n",
       "POL      1\n",
       "IRL      1\n",
       "ROU      1\n",
       "KOR      1\n",
       "Name: country, dtype: int64"
      ]
     },
     "execution_count": 44,
     "metadata": {},
     "output_type": "execute_result"
    }
   ],
   "source": [
    "cancelamentos_na_hora['country'].value_counts() # Obvio que a maioria seriam Portugueses"
   ]
  },
  {
   "cell_type": "code",
   "execution_count": 33,
   "metadata": {},
   "outputs": [
    {
     "data": {
      "text/plain": [
       "347"
      ]
     },
     "execution_count": 33,
     "metadata": {},
     "output_type": "execute_result"
    }
   ],
   "source": [
    "cancelamentos_na_hora['company'].isna().sum() # Reservas não coorporativas"
   ]
  },
  {
   "cell_type": "markdown",
   "metadata": {},
   "source": [
    "### Aqui observamos a existência de reservas com 0 adultos, crianças e bebês. O que podem ser dados inválidos."
   ]
  },
  {
   "cell_type": "code",
   "execution_count": 58,
   "metadata": {},
   "outputs": [
    {
     "data": {
      "text/plain": [
       "adults  children  babies\n",
       "2       0.0       0         0.603491\n",
       "1       0.0       0         0.294264\n",
       "0       0.0       0         0.029925\n",
       "3       0.0       0         0.024938\n",
       "2       1.0       0         0.019950\n",
       "        2.0       0         0.012469\n",
       "3       1.0       0         0.007481\n",
       "2       2.0       1         0.004988\n",
       "        0.0       1         0.002494\n",
       "dtype: float64"
      ]
     },
     "execution_count": 58,
     "metadata": {},
     "output_type": "execute_result"
    }
   ],
   "source": [
    "cancelamentos_na_hora[['adults', 'children', 'babies']].value_counts() / cancelamentos_na_hora.shape[0]"
   ]
  },
  {
   "cell_type": "code",
   "execution_count": 59,
   "metadata": {},
   "outputs": [
    {
     "data": {
      "text/plain": [
       "adults  children  babies\n",
       "2       0.0       0         0.683138\n",
       "1       0.0       0         0.188618\n",
       "3       0.0       0         0.047606\n",
       "2       1.0       0         0.033322\n",
       "        2.0       0         0.026938\n",
       "        0.0       1         0.005917\n",
       "3       1.0       0         0.004127\n",
       "1       1.0       0         0.002310\n",
       "0       2.0       0         0.001764\n",
       "        0.0       0         0.001473\n",
       "1       2.0       0         0.001287\n",
       "2       1.0       1         0.001146\n",
       "4       0.0       0         0.000520\n",
       "2       3.0       0         0.000503\n",
       "3       2.0       0         0.000335\n",
       "2       2.0       1         0.000238\n",
       "        0.0       2         0.000106\n",
       "0       3.0       0         0.000097\n",
       "3       0.0       1         0.000079\n",
       "1       0.0       1         0.000079\n",
       "26      0.0       0         0.000044\n",
       "1       3.0       0         0.000035\n",
       "0       1.0       0         0.000035\n",
       "2       1.0       2         0.000026\n",
       "0       2.0       1         0.000026\n",
       "20      0.0       0         0.000018\n",
       "27      0.0       0         0.000018\n",
       "1       2.0       1         0.000018\n",
       "3       1.0       1         0.000018\n",
       "1       1.0       1         0.000018\n",
       "4       1.0       0         0.000018\n",
       "5       0.0       0         0.000018\n",
       "50      0.0       0         0.000009\n",
       "40      0.0       0         0.000009\n",
       "4       0.0       1         0.000009\n",
       "10      0.0       0         0.000009\n",
       "6       0.0       0         0.000009\n",
       "1       0.0       9         0.000009\n",
       "2       10.0      0         0.000009\n",
       "        0.0       10        0.000009\n",
       "55      0.0       0         0.000009\n",
       "dtype: float64"
      ]
     },
     "execution_count": 59,
     "metadata": {},
     "output_type": "execute_result"
    }
   ],
   "source": [
    "tb_hotel[['adults', 'children', 'babies']].value_counts() / tb_hotel.shape[0]"
   ]
  },
  {
   "cell_type": "code",
   "execution_count": 45,
   "metadata": {},
   "outputs": [
    {
     "data": {
      "text/plain": [
       "<AxesSubplot:xlabel='deposit_type', ylabel='Count'>"
      ]
     },
     "execution_count": 45,
     "metadata": {},
     "output_type": "execute_result"
    },
    {
     "data": {
      "image/png": "[encoded data removed]",
      "text/plain": [
       "<Figure size 432x288 with 1 Axes>"
      ]
     },
     "metadata": {
      "needs_background": "light"
     },
     "output_type": "display_data"
    }
   ],
   "source": [
    "cancelamentos_na_hora['deposit_type'].value_counts()\n",
    "sns.histplot(data=cancelamentos_na_hora, x='deposit_type')"
   ]
  },
  {
   "cell_type": "code",
   "execution_count": 32,
   "metadata": {},
   "outputs": [
    {
     "data": {
      "text/plain": [
       "0.00      40\n",
       "109.00    29\n",
       "89.00     19\n",
       "12.00     17\n",
       "8.00      13\n",
       "          ..\n",
       "207.00     1\n",
       "174.00     1\n",
       "168.00     1\n",
       "205.33     1\n",
       "77.00      1\n",
       "Name: adr, Length: 150, dtype: int64"
      ]
     },
     "execution_count": 32,
     "metadata": {},
     "output_type": "execute_result"
    }
   ],
   "source": [
    "cancelamentos_na_hora['adr'].value_counts()"
   ]
  },
  {
   "cell_type": "markdown",
   "metadata": {},
   "source": [
    "### Atenção aqui:\n",
    "Aqui o objetivo era analisar se nos cancelamentos em Lead Time = 0, o tipo de hotel tinha alguma relação. Nesses casos é importante analisar tanto a distribuição da subamostra em questão e comparar com a distribuição do Dataset completo para ver se há alguma diferença.\n",
    "\n",
    "Nesse caso em particular, não teve :P. Be Careful!"
   ]
  },
  {
   "cell_type": "code",
   "execution_count": 13,
   "metadata": {},
   "outputs": [
    {
     "data": {
      "text/plain": [
       "<AxesSubplot:xlabel='hotel', ylabel='Count'>"
      ]
     },
     "execution_count": 13,
     "metadata": {},
     "output_type": "execute_result"
    },
    {
     "data": {
      "image/png": "[encoded data removed]",
      "text/plain": [
       "<Figure size 432x288 with 1 Axes>"
      ]
     },
     "metadata": {
      "needs_background": "light"
     },
     "output_type": "display_data"
    }
   ],
   "source": [
    "cancelamentos_na_hora['hotel'].value_counts()\n",
    "sns.histplot(data=cancelamentos_na_hora, x='hotel')"
   ]
  },
  {
   "cell_type": "code",
   "execution_count": 53,
   "metadata": {},
   "outputs": [
    {
     "data": {
      "text/plain": [
       "<AxesSubplot:xlabel='hotel', ylabel='Count'>"
      ]
     },
     "execution_count": 53,
     "metadata": {},
     "output_type": "execute_result"
    },
    {
     "data": {
      "image/png": "[encoded data removed]",
      "text/plain": [
       "<Figure size 432x288 with 1 Axes>"
      ]
     },
     "metadata": {
      "needs_background": "light"
     },
     "output_type": "display_data"
    }
   ],
   "source": [
    "sns.histplot(data=tb_hotel, x='hotel')"
   ]
  },
  {
   "cell_type": "code",
   "execution_count": 42,
   "metadata": {},
   "outputs": [
    {
     "name": "stderr",
     "output_type": "stream",
     "text": [
      "/tmp/ipykernel_203/818762392.py:1: SettingWithCopyWarning: \n",
      "A value is trying to be set on a copy of a slice from a DataFrame.\n",
      "Try using .loc[row_indexer,col_indexer] = value instead\n",
      "\n",
      "See the caveats in the documentation: https://pandas.pydata.org/pandas-docs/stable/user_guide/indexing.html#returning-a-view-versus-a-copy\n",
      "  cancelamentos_na_hora['stays_total'] = cancelamentos_na_hora['stays_in_weekend_nights'] + cancelamentos_na_hora['stays_in_week_nights']\n"
     ]
    },
    {
     "data": {
      "text/plain": [
       "<AxesSubplot:xlabel='stays_total', ylabel='Count'>"
      ]
     },
     "execution_count": 42,
     "metadata": {},
     "output_type": "execute_result"
    },
    {
     "data": {
      "image/png": "[encoded data removed]",
      "text/plain": [
       "<Figure size 432x288 with 1 Axes>"
      ]
     },
     "metadata": {
      "needs_background": "light"
     },
     "output_type": "display_data"
    }
   ],
   "source": [
    "cancelamentos_na_hora['stays_total'] = cancelamentos_na_hora['stays_in_weekend_nights'] + cancelamentos_na_hora['stays_in_week_nights']\n",
    "cancelamentos_na_hora['stays_total'].value_counts()\n",
    "sns.histplot(data=cancelamentos_na_hora, x='stays_total')"
   ]
  },
  {
   "cell_type": "code",
   "execution_count": 60,
   "metadata": {},
   "outputs": [
    {
     "data": {
      "text/plain": [
       "<AxesSubplot:xlabel='stays_total', ylabel='Count'>"
      ]
     },
     "execution_count": 60,
     "metadata": {},
     "output_type": "execute_result"
    },
    {
     "data": {
      "image/png": "[encoded data removed]",
      "text/plain": [
       "<Figure size 432x288 with 1 Axes>"
      ]
     },
     "metadata": {
      "needs_background": "light"
     },
     "output_type": "display_data"
    }
   ],
   "source": [
    "tb_hotel['stays_total'] = tb_hotel['stays_in_weekend_nights'] + tb_hotel['stays_in_week_nights']\n",
    "tb_hotel['stays_total'].value_counts()\n",
    "sns.histplot(data=tb_hotel, x='stays_total')"
   ]
  },
  {
   "cell_type": "code",
   "execution_count": 37,
   "metadata": {},
   "outputs": [],
   "source": [
    "cancelamentos_fantasmas = cancelamentos_na_hora.loc[(cancelamentos_na_hora['adults'] == 0) & (cancelamentos_na_hora['children'] == 0.0) & (cancelamentos_na_hora['babies'] == 0)]"
   ]
  },
  {
   "cell_type": "code",
   "execution_count": 38,
   "metadata": {},
   "outputs": [
    {
     "data": {
      "text/html": [
       "<div>\n",
       "<style scoped>\n",
       "    .dataframe tbody tr th:only-of-type {\n",
       "        vertical-align: middle;\n",
       "    }\n",
       "\n",
       "    .dataframe tbody tr th {\n",
       "        vertical-align: top;\n",
       "    }\n",
       "\n",
       "    .dataframe thead th {\n",
       "        text-align: right;\n",
       "    }\n",
       "</style>\n",
       "<table border=\"1\" class=\"dataframe\">\n",
       "  <thead>\n",
       "    <tr style=\"text-align: right;\">\n",
       "      <th></th>\n",
       "      <th>hotel</th>\n",
       "      <th>is_cancelled</th>\n",
       "      <th>lead_time</th>\n",
       "      <th>stays_in_weekend_nights</th>\n",
       "      <th>stays_in_week_nights</th>\n",
       "      <th>adults</th>\n",
       "      <th>children</th>\n",
       "      <th>babies</th>\n",
       "      <th>meal</th>\n",
       "      <th>country</th>\n",
       "      <th>...</th>\n",
       "      <th>company</th>\n",
       "      <th>days_in_waiting_list</th>\n",
       "      <th>customer_type</th>\n",
       "      <th>adr</th>\n",
       "      <th>required_car_parking_spaces</th>\n",
       "      <th>total_of_special_requests</th>\n",
       "      <th>reservation_status_date</th>\n",
       "      <th>arrival_date</th>\n",
       "      <th>id_booking</th>\n",
       "      <th>pred_lead_time</th>\n",
       "    </tr>\n",
       "  </thead>\n",
       "  <tbody>\n",
       "    <tr>\n",
       "      <th>3923</th>\n",
       "      <td>Resort Hotel</td>\n",
       "      <td>1</td>\n",
       "      <td>0</td>\n",
       "      <td>0</td>\n",
       "      <td>0</td>\n",
       "      <td>0</td>\n",
       "      <td>0.0</td>\n",
       "      <td>0</td>\n",
       "      <td>SC</td>\n",
       "      <td>NaN</td>\n",
       "      <td>...</td>\n",
       "      <td>383.0</td>\n",
       "      <td>0</td>\n",
       "      <td>Transient</td>\n",
       "      <td>0.0</td>\n",
       "      <td>0</td>\n",
       "      <td>0</td>\n",
       "      <td>2016-02-15</td>\n",
       "      <td>2016-02-15</td>\n",
       "      <td>4127</td>\n",
       "      <td>0.237545</td>\n",
       "    </tr>\n",
       "    <tr>\n",
       "      <th>57608</th>\n",
       "      <td>City Hotel</td>\n",
       "      <td>1</td>\n",
       "      <td>0</td>\n",
       "      <td>4</td>\n",
       "      <td>11</td>\n",
       "      <td>0</td>\n",
       "      <td>0.0</td>\n",
       "      <td>0</td>\n",
       "      <td>SC</td>\n",
       "      <td>NaN</td>\n",
       "      <td>...</td>\n",
       "      <td>279.0</td>\n",
       "      <td>0</td>\n",
       "      <td>Transient</td>\n",
       "      <td>0.0</td>\n",
       "      <td>0</td>\n",
       "      <td>0</td>\n",
       "      <td>2016-11-17</td>\n",
       "      <td>2016-11-17</td>\n",
       "      <td>60651</td>\n",
       "      <td>0.237545</td>\n",
       "    </tr>\n",
       "    <tr>\n",
       "      <th>58167</th>\n",
       "      <td>City Hotel</td>\n",
       "      <td>1</td>\n",
       "      <td>0</td>\n",
       "      <td>0</td>\n",
       "      <td>0</td>\n",
       "      <td>0</td>\n",
       "      <td>0.0</td>\n",
       "      <td>0</td>\n",
       "      <td>SC</td>\n",
       "      <td>NaN</td>\n",
       "      <td>...</td>\n",
       "      <td>279.0</td>\n",
       "      <td>0</td>\n",
       "      <td>Transient</td>\n",
       "      <td>0.0</td>\n",
       "      <td>0</td>\n",
       "      <td>0</td>\n",
       "      <td>2016-12-06</td>\n",
       "      <td>2016-12-06</td>\n",
       "      <td>61244</td>\n",
       "      <td>0.237545</td>\n",
       "    </tr>\n",
       "    <tr>\n",
       "      <th>58168</th>\n",
       "      <td>City Hotel</td>\n",
       "      <td>1</td>\n",
       "      <td>0</td>\n",
       "      <td>0</td>\n",
       "      <td>0</td>\n",
       "      <td>0</td>\n",
       "      <td>0.0</td>\n",
       "      <td>0</td>\n",
       "      <td>SC</td>\n",
       "      <td>NaN</td>\n",
       "      <td>...</td>\n",
       "      <td>279.0</td>\n",
       "      <td>0</td>\n",
       "      <td>Transient</td>\n",
       "      <td>0.0</td>\n",
       "      <td>0</td>\n",
       "      <td>0</td>\n",
       "      <td>2016-12-06</td>\n",
       "      <td>2016-12-06</td>\n",
       "      <td>61245</td>\n",
       "      <td>0.237545</td>\n",
       "    </tr>\n",
       "    <tr>\n",
       "      <th>58172</th>\n",
       "      <td>City Hotel</td>\n",
       "      <td>1</td>\n",
       "      <td>0</td>\n",
       "      <td>0</td>\n",
       "      <td>0</td>\n",
       "      <td>0</td>\n",
       "      <td>0.0</td>\n",
       "      <td>0</td>\n",
       "      <td>SC</td>\n",
       "      <td>NaN</td>\n",
       "      <td>...</td>\n",
       "      <td>279.0</td>\n",
       "      <td>0</td>\n",
       "      <td>Transient</td>\n",
       "      <td>0.0</td>\n",
       "      <td>0</td>\n",
       "      <td>0</td>\n",
       "      <td>2016-12-06</td>\n",
       "      <td>2016-12-06</td>\n",
       "      <td>61249</td>\n",
       "      <td>0.237545</td>\n",
       "    </tr>\n",
       "    <tr>\n",
       "      <th>61537</th>\n",
       "      <td>City Hotel</td>\n",
       "      <td>1</td>\n",
       "      <td>0</td>\n",
       "      <td>0</td>\n",
       "      <td>3</td>\n",
       "      <td>0</td>\n",
       "      <td>0.0</td>\n",
       "      <td>0</td>\n",
       "      <td>BB</td>\n",
       "      <td>PRT</td>\n",
       "      <td>...</td>\n",
       "      <td>NaN</td>\n",
       "      <td>0</td>\n",
       "      <td>Transient</td>\n",
       "      <td>0.0</td>\n",
       "      <td>0</td>\n",
       "      <td>0</td>\n",
       "      <td>2017-03-16</td>\n",
       "      <td>2017-03-16</td>\n",
       "      <td>64782</td>\n",
       "      <td>0.237545</td>\n",
       "    </tr>\n",
       "    <tr>\n",
       "      <th>62601</th>\n",
       "      <td>City Hotel</td>\n",
       "      <td>1</td>\n",
       "      <td>0</td>\n",
       "      <td>0</td>\n",
       "      <td>0</td>\n",
       "      <td>0</td>\n",
       "      <td>0.0</td>\n",
       "      <td>0</td>\n",
       "      <td>SC</td>\n",
       "      <td>NaN</td>\n",
       "      <td>...</td>\n",
       "      <td>279.0</td>\n",
       "      <td>0</td>\n",
       "      <td>Transient</td>\n",
       "      <td>0.0</td>\n",
       "      <td>0</td>\n",
       "      <td>0</td>\n",
       "      <td>2017-04-10</td>\n",
       "      <td>2017-04-10</td>\n",
       "      <td>65907</td>\n",
       "      <td>0.237545</td>\n",
       "    </tr>\n",
       "    <tr>\n",
       "      <th>62602</th>\n",
       "      <td>City Hotel</td>\n",
       "      <td>1</td>\n",
       "      <td>0</td>\n",
       "      <td>0</td>\n",
       "      <td>0</td>\n",
       "      <td>0</td>\n",
       "      <td>0.0</td>\n",
       "      <td>0</td>\n",
       "      <td>SC</td>\n",
       "      <td>NaN</td>\n",
       "      <td>...</td>\n",
       "      <td>279.0</td>\n",
       "      <td>0</td>\n",
       "      <td>Transient</td>\n",
       "      <td>0.0</td>\n",
       "      <td>0</td>\n",
       "      <td>0</td>\n",
       "      <td>2017-04-10</td>\n",
       "      <td>2017-04-10</td>\n",
       "      <td>65908</td>\n",
       "      <td>0.237545</td>\n",
       "    </tr>\n",
       "    <tr>\n",
       "      <th>62603</th>\n",
       "      <td>City Hotel</td>\n",
       "      <td>1</td>\n",
       "      <td>0</td>\n",
       "      <td>0</td>\n",
       "      <td>0</td>\n",
       "      <td>0</td>\n",
       "      <td>0.0</td>\n",
       "      <td>0</td>\n",
       "      <td>SC</td>\n",
       "      <td>NaN</td>\n",
       "      <td>...</td>\n",
       "      <td>279.0</td>\n",
       "      <td>0</td>\n",
       "      <td>Transient</td>\n",
       "      <td>0.0</td>\n",
       "      <td>0</td>\n",
       "      <td>0</td>\n",
       "      <td>2017-04-10</td>\n",
       "      <td>2017-04-10</td>\n",
       "      <td>65909</td>\n",
       "      <td>0.237545</td>\n",
       "    </tr>\n",
       "    <tr>\n",
       "      <th>62604</th>\n",
       "      <td>City Hotel</td>\n",
       "      <td>1</td>\n",
       "      <td>0</td>\n",
       "      <td>0</td>\n",
       "      <td>0</td>\n",
       "      <td>0</td>\n",
       "      <td>0.0</td>\n",
       "      <td>0</td>\n",
       "      <td>SC</td>\n",
       "      <td>NaN</td>\n",
       "      <td>...</td>\n",
       "      <td>279.0</td>\n",
       "      <td>0</td>\n",
       "      <td>Transient</td>\n",
       "      <td>0.0</td>\n",
       "      <td>0</td>\n",
       "      <td>0</td>\n",
       "      <td>2017-04-10</td>\n",
       "      <td>2017-04-10</td>\n",
       "      <td>65910</td>\n",
       "      <td>0.237545</td>\n",
       "    </tr>\n",
       "    <tr>\n",
       "      <th>69285</th>\n",
       "      <td>City Hotel</td>\n",
       "      <td>1</td>\n",
       "      <td>0</td>\n",
       "      <td>0</td>\n",
       "      <td>0</td>\n",
       "      <td>0</td>\n",
       "      <td>0.0</td>\n",
       "      <td>0</td>\n",
       "      <td>SC</td>\n",
       "      <td>PRT</td>\n",
       "      <td>...</td>\n",
       "      <td>NaN</td>\n",
       "      <td>0</td>\n",
       "      <td>Transient</td>\n",
       "      <td>0.0</td>\n",
       "      <td>0</td>\n",
       "      <td>0</td>\n",
       "      <td>2017-08-11</td>\n",
       "      <td>2017-08-11</td>\n",
       "      <td>72967</td>\n",
       "      <td>0.237545</td>\n",
       "    </tr>\n",
       "    <tr>\n",
       "      <th>69286</th>\n",
       "      <td>City Hotel</td>\n",
       "      <td>1</td>\n",
       "      <td>0</td>\n",
       "      <td>0</td>\n",
       "      <td>0</td>\n",
       "      <td>0</td>\n",
       "      <td>0.0</td>\n",
       "      <td>0</td>\n",
       "      <td>SC</td>\n",
       "      <td>PRT</td>\n",
       "      <td>...</td>\n",
       "      <td>NaN</td>\n",
       "      <td>0</td>\n",
       "      <td>Transient</td>\n",
       "      <td>0.0</td>\n",
       "      <td>0</td>\n",
       "      <td>0</td>\n",
       "      <td>2017-08-11</td>\n",
       "      <td>2017-08-11</td>\n",
       "      <td>72968</td>\n",
       "      <td>0.237545</td>\n",
       "    </tr>\n",
       "  </tbody>\n",
       "</table>\n",
       "<p>12 rows × 30 columns</p>\n",
       "</div>"
      ],
      "text/plain": [
       "              hotel  is_cancelled  lead_time  stays_in_weekend_nights  \\\n",
       "3923   Resort Hotel             1          0                        0   \n",
       "57608    City Hotel             1          0                        4   \n",
       "58167    City Hotel             1          0                        0   \n",
       "58168    City Hotel             1          0                        0   \n",
       "58172    City Hotel             1          0                        0   \n",
       "61537    City Hotel             1          0                        0   \n",
       "62601    City Hotel             1          0                        0   \n",
       "62602    City Hotel             1          0                        0   \n",
       "62603    City Hotel             1          0                        0   \n",
       "62604    City Hotel             1          0                        0   \n",
       "69285    City Hotel             1          0                        0   \n",
       "69286    City Hotel             1          0                        0   \n",
       "\n",
       "       stays_in_week_nights  adults  children  babies meal country  ...  \\\n",
       "3923                      0       0       0.0       0   SC     NaN  ...   \n",
       "57608                    11       0       0.0       0   SC     NaN  ...   \n",
       "58167                     0       0       0.0       0   SC     NaN  ...   \n",
       "58168                     0       0       0.0       0   SC     NaN  ...   \n",
       "58172                     0       0       0.0       0   SC     NaN  ...   \n",
       "61537                     3       0       0.0       0   BB     PRT  ...   \n",
       "62601                     0       0       0.0       0   SC     NaN  ...   \n",
       "62602                     0       0       0.0       0   SC     NaN  ...   \n",
       "62603                     0       0       0.0       0   SC     NaN  ...   \n",
       "62604                     0       0       0.0       0   SC     NaN  ...   \n",
       "69285                     0       0       0.0       0   SC     PRT  ...   \n",
       "69286                     0       0       0.0       0   SC     PRT  ...   \n",
       "\n",
       "      company days_in_waiting_list  customer_type  adr  \\\n",
       "3923    383.0                    0      Transient  0.0   \n",
       "57608   279.0                    0      Transient  0.0   \n",
       "58167   279.0                    0      Transient  0.0   \n",
       "58168   279.0                    0      Transient  0.0   \n",
       "58172   279.0                    0      Transient  0.0   \n",
       "61537     NaN                    0      Transient  0.0   \n",
       "62601   279.0                    0      Transient  0.0   \n",
       "62602   279.0                    0      Transient  0.0   \n",
       "62603   279.0                    0      Transient  0.0   \n",
       "62604   279.0                    0      Transient  0.0   \n",
       "69285     NaN                    0      Transient  0.0   \n",
       "69286     NaN                    0      Transient  0.0   \n",
       "\n",
       "       required_car_parking_spaces total_of_special_requests  \\\n",
       "3923                             0                         0   \n",
       "57608                            0                         0   \n",
       "58167                            0                         0   \n",
       "58168                            0                         0   \n",
       "58172                            0                         0   \n",
       "61537                            0                         0   \n",
       "62601                            0                         0   \n",
       "62602                            0                         0   \n",
       "62603                            0                         0   \n",
       "62604                            0                         0   \n",
       "69285                            0                         0   \n",
       "69286                            0                         0   \n",
       "\n",
       "      reservation_status_date  arrival_date id_booking  pred_lead_time  \n",
       "3923               2016-02-15    2016-02-15       4127        0.237545  \n",
       "57608              2016-11-17    2016-11-17      60651        0.237545  \n",
       "58167              2016-12-06    2016-12-06      61244        0.237545  \n",
       "58168              2016-12-06    2016-12-06      61245        0.237545  \n",
       "58172              2016-12-06    2016-12-06      61249        0.237545  \n",
       "61537              2017-03-16    2017-03-16      64782        0.237545  \n",
       "62601              2017-04-10    2017-04-10      65907        0.237545  \n",
       "62602              2017-04-10    2017-04-10      65908        0.237545  \n",
       "62603              2017-04-10    2017-04-10      65909        0.237545  \n",
       "62604              2017-04-10    2017-04-10      65910        0.237545  \n",
       "69285              2017-08-11    2017-08-11      72967        0.237545  \n",
       "69286              2017-08-11    2017-08-11      72968        0.237545  \n",
       "\n",
       "[12 rows x 30 columns]"
      ]
     },
     "execution_count": 38,
     "metadata": {},
     "output_type": "execute_result"
    }
   ],
   "source": [
    "cancelamentos_fantasmas"
   ]
  },
  {
   "cell_type": "markdown",
   "metadata": {},
   "source": [
    "# Analisando a Borda Superior da predição"
   ]
  },
  {
   "cell_type": "code",
   "execution_count": null,
   "metadata": {},
   "outputs": [],
   "source": [
    "lead_time_longo = tb_hotel.loc[(tb_hotel['lead_time'] == 0) & (tb_hotel['is_cancelled'] == 1)]"
   ]
  },
  {
   "cell_type": "markdown",
   "metadata": {},
   "source": [
    "**Uso do pd.qcut:** Útil para <i>discretizar</i> dados de uma coluna, isto é, agrupa os dados em intervalos fixos (quantis) onde nós determinamos essa quantidade de grupos. Nisso temos uma coluna de valores inteiros ou categóricos (discretos) baseado numa coluna de valores contínuos."
   ]
  },
  {
   "cell_type": "code",
   "execution_count": 52,
   "metadata": {},
   "outputs": [],
   "source": [
    "tb_hotel['cat_lead_time'] = pd.qcut(tb_hotel['lead_time'], 10, labels=[str(i) for i in range(1, 11)]) # Aqui nós criamos a coluna cat_lead_time com a discretização de lead_time."
   ]
  },
  {
   "cell_type": "code",
   "execution_count": 53,
   "metadata": {},
   "outputs": [
    {
     "data": {
      "text/plain": [
       "0         10\n",
       "1         10\n",
       "2          2\n",
       "3          3\n",
       "4          3\n",
       "          ..\n",
       "113404     3\n",
       "113405     7\n",
       "113406     4\n",
       "113407     7\n",
       "113408     9\n",
       "Name: cat_lead_time, Length: 113409, dtype: category\n",
       "Categories (10, object): ['1' < '2' < '3' < '4' ... '7' < '8' < '9' < '10']"
      ]
     },
     "execution_count": 53,
     "metadata": {},
     "output_type": "execute_result"
    }
   ],
   "source": [
    "tb_hotel['cat_lead_time']"
   ]
  },
  {
   "cell_type": "code",
   "execution_count": 54,
   "metadata": {},
   "outputs": [],
   "source": [
    "a_ratio = tb_hotel.loc[(tb_hotel['cat_lead_time'] == '1') & (tb_hotel['is_cancelled'] == 1)].shape[0] / tb_hotel['is_cancelled'].shape[0]"
   ]
  },
  {
   "cell_type": "code",
   "execution_count": 55,
   "metadata": {},
   "outputs": [
    {
     "data": {
      "text/plain": [
       "0.009549506652911145"
      ]
     },
     "execution_count": 55,
     "metadata": {},
     "output_type": "execute_result"
    }
   ],
   "source": [
    "a_ratio"
   ]
  },
  {
   "cell_type": "code",
   "execution_count": 57,
   "metadata": {},
   "outputs": [
    {
     "data": {
      "text/plain": [
       "cat_lead_time\n",
       "1     0.083500\n",
       "2     0.159411\n",
       "3     0.285714\n",
       "4     0.358924\n",
       "5     0.383482\n",
       "6     0.407999\n",
       "7     0.432777\n",
       "8     0.466201\n",
       "9     0.474881\n",
       "10    0.673058\n",
       "Name: is_cancelled, dtype: float64"
      ]
     },
     "execution_count": 57,
     "metadata": {},
     "output_type": "execute_result"
    }
   ],
   "source": [
    "tb_hotel.groupby('cat_lead_time')['is_cancelled'].mean()"
   ]
  },
  {
   "cell_type": "code",
   "execution_count": 58,
   "metadata": {},
   "outputs": [],
   "source": [
    "is_canc_comparison = tb_hotel.groupby('cat_lead_time')[['is_cancelled', 'pred_lead_time']].mean().reset_index()"
   ]
  },
  {
   "cell_type": "code",
   "execution_count": 59,
   "metadata": {},
   "outputs": [],
   "source": [
    "is_canc_comparison['diff_pred'] = is_canc_comparison['is_cancelled'] - is_canc_comparison['pred_lead_time']"
   ]
  },
  {
   "cell_type": "markdown",
   "metadata": {},
   "source": [
    "### Dever de casa:\n",
    "\n",
    "Adicionar à is_canc_comparison uma coluna com as predições do modelo por categoria (tb_cat[pred_lead_time_cat]). Analisar o diff_pred em relação ao resutado desses dois modelos e observar os ganhos dos grupos, se foram muito significativos ou não."
   ]
  },
  {
   "cell_type": "markdown",
   "metadata": {},
   "source": [
    "### Abaixo temos uma tabela onde:\n",
    "Os dados estão segmentados em 10 categorias e relacionamos os scores de cancelamentos observados (is_cancelled) com os cancelamentos predizidos pelo modelo treinado sem segmentação de categorias (pred_is_canceled).\n",
    "\n",
    "Calculamos a diferença entre eles (diff_pred) para visualizar os ganhos."
   ]
  },
  {
   "cell_type": "code",
   "execution_count": 71,
   "metadata": {},
   "outputs": [
    {
     "data": {
      "text/html": [
       "<div>\n",
       "<style scoped>\n",
       "    .dataframe tbody tr th:only-of-type {\n",
       "        vertical-align: middle;\n",
       "    }\n",
       "\n",
       "    .dataframe tbody tr th {\n",
       "        vertical-align: top;\n",
       "    }\n",
       "\n",
       "    .dataframe thead th {\n",
       "        text-align: right;\n",
       "    }\n",
       "</style>\n",
       "<table border=\"1\" class=\"dataframe\">\n",
       "  <thead>\n",
       "    <tr style=\"text-align: right;\">\n",
       "      <th></th>\n",
       "      <th>cat_lead_time</th>\n",
       "      <th>is_cancelled</th>\n",
       "      <th>pred_is_canceled</th>\n",
       "      <th>diff_pred</th>\n",
       "    </tr>\n",
       "  </thead>\n",
       "  <tbody>\n",
       "    <tr>\n",
       "      <th>0</th>\n",
       "      <td>1</td>\n",
       "      <td>0.083500</td>\n",
       "      <td>0.238562</td>\n",
       "      <td>-0.155062</td>\n",
       "    </tr>\n",
       "    <tr>\n",
       "      <th>1</th>\n",
       "      <td>2</td>\n",
       "      <td>0.159411</td>\n",
       "      <td>0.245133</td>\n",
       "      <td>-0.085722</td>\n",
       "    </tr>\n",
       "    <tr>\n",
       "      <th>2</th>\n",
       "      <td>3</td>\n",
       "      <td>0.285714</td>\n",
       "      <td>0.258172</td>\n",
       "      <td>0.027542</td>\n",
       "    </tr>\n",
       "    <tr>\n",
       "      <th>3</th>\n",
       "      <td>4</td>\n",
       "      <td>0.358924</td>\n",
       "      <td>0.277895</td>\n",
       "      <td>0.081029</td>\n",
       "    </tr>\n",
       "    <tr>\n",
       "      <th>4</th>\n",
       "      <td>5</td>\n",
       "      <td>0.383482</td>\n",
       "      <td>0.303787</td>\n",
       "      <td>0.079695</td>\n",
       "    </tr>\n",
       "    <tr>\n",
       "      <th>5</th>\n",
       "      <td>6</td>\n",
       "      <td>0.407999</td>\n",
       "      <td>0.338578</td>\n",
       "      <td>0.069420</td>\n",
       "    </tr>\n",
       "    <tr>\n",
       "      <th>6</th>\n",
       "      <td>7</td>\n",
       "      <td>0.432777</td>\n",
       "      <td>0.384374</td>\n",
       "      <td>0.048403</td>\n",
       "    </tr>\n",
       "    <tr>\n",
       "      <th>7</th>\n",
       "      <td>8</td>\n",
       "      <td>0.466201</td>\n",
       "      <td>0.445024</td>\n",
       "      <td>0.021176</td>\n",
       "    </tr>\n",
       "    <tr>\n",
       "      <th>8</th>\n",
       "      <td>9</td>\n",
       "      <td>0.474881</td>\n",
       "      <td>0.531382</td>\n",
       "      <td>-0.056501</td>\n",
       "    </tr>\n",
       "    <tr>\n",
       "      <th>9</th>\n",
       "      <td>10</td>\n",
       "      <td>0.673058</td>\n",
       "      <td>0.691394</td>\n",
       "      <td>-0.018336</td>\n",
       "    </tr>\n",
       "  </tbody>\n",
       "</table>\n",
       "</div>"
      ],
      "text/plain": [
       "  cat_lead_time  is_cancelled  pred_is_canceled  diff_pred\n",
       "0             1      0.083500          0.238562  -0.155062\n",
       "1             2      0.159411          0.245133  -0.085722\n",
       "2             3      0.285714          0.258172   0.027542\n",
       "3             4      0.358924          0.277895   0.081029\n",
       "4             5      0.383482          0.303787   0.079695\n",
       "5             6      0.407999          0.338578   0.069420\n",
       "6             7      0.432777          0.384374   0.048403\n",
       "7             8      0.466201          0.445024   0.021176\n",
       "8             9      0.474881          0.531382  -0.056501\n",
       "9            10      0.673058          0.691394  -0.018336"
      ]
     },
     "execution_count": 71,
     "metadata": {},
     "output_type": "execute_result"
    }
   ],
   "source": [
    "is_canc_comparison"
   ]
  },
  {
   "cell_type": "markdown",
   "metadata": {},
   "source": [
    "## Treinando a Regressão Logística para as categorias que criamos"
   ]
  },
  {
   "cell_type": "code",
   "execution_count": 75,
   "metadata": {},
   "outputs": [],
   "source": [
    "tb_hotel2 = pd.DataFrame()"
   ]
  },
  {
   "cell_type": "code",
   "execution_count": 76,
   "metadata": {},
   "outputs": [],
   "source": [
    "for cat in tb_hotel['cat_lead_time'].unique():\n",
    "    tb_cat = tb_hotel[tb_hotel['cat_lead_time'] == cat].copy()\n",
    "    model3 = LogisticRegression()\n",
    "    model3.fit(tb_cat[['lead_time']], tb_cat['is_cancelled'])\n",
    "    tb_cat['pred_lead_time_cat'] = model3.predict_proba(tb_cat[['lead_time']])[:,1]\n",
    "    tb_hotel2 = pd.concat((tb_hotel2, tb_cat), axis=0)"
   ]
  },
  {
   "cell_type": "code",
   "execution_count": 90,
   "metadata": {},
   "outputs": [
    {
     "data": {
      "text/html": [
       "<div>\n",
       "<style scoped>\n",
       "    .dataframe tbody tr th:only-of-type {\n",
       "        vertical-align: middle;\n",
       "    }\n",
       "\n",
       "    .dataframe tbody tr th {\n",
       "        vertical-align: top;\n",
       "    }\n",
       "\n",
       "    .dataframe thead th {\n",
       "        text-align: right;\n",
       "    }\n",
       "</style>\n",
       "<table border=\"1\" class=\"dataframe\">\n",
       "  <thead>\n",
       "    <tr style=\"text-align: right;\">\n",
       "      <th></th>\n",
       "      <th>hotel</th>\n",
       "      <th>is_cancelled</th>\n",
       "      <th>lead_time</th>\n",
       "      <th>stays_in_weekend_nights</th>\n",
       "      <th>stays_in_week_nights</th>\n",
       "      <th>adults</th>\n",
       "      <th>children</th>\n",
       "      <th>babies</th>\n",
       "      <th>meal</th>\n",
       "      <th>country</th>\n",
       "      <th>...</th>\n",
       "      <th>customer_type</th>\n",
       "      <th>adr</th>\n",
       "      <th>required_car_parking_spaces</th>\n",
       "      <th>total_of_special_requests</th>\n",
       "      <th>reservation_status_date</th>\n",
       "      <th>arrival_date</th>\n",
       "      <th>id_booking</th>\n",
       "      <th>pred_lead_time</th>\n",
       "      <th>cat_lead_time</th>\n",
       "      <th>pred_lead_time_cat</th>\n",
       "    </tr>\n",
       "  </thead>\n",
       "  <tbody>\n",
       "    <tr>\n",
       "      <th>0</th>\n",
       "      <td>Resort Hotel</td>\n",
       "      <td>0</td>\n",
       "      <td>342</td>\n",
       "      <td>0</td>\n",
       "      <td>0</td>\n",
       "      <td>2</td>\n",
       "      <td>0.0</td>\n",
       "      <td>0</td>\n",
       "      <td>BB</td>\n",
       "      <td>PRT</td>\n",
       "      <td>...</td>\n",
       "      <td>Transient</td>\n",
       "      <td>0.00</td>\n",
       "      <td>0</td>\n",
       "      <td>0</td>\n",
       "      <td>2015-07-01</td>\n",
       "      <td>2015-07-01</td>\n",
       "      <td>0</td>\n",
       "      <td>0.698426</td>\n",
       "      <td>10</td>\n",
       "      <td>0.672943</td>\n",
       "    </tr>\n",
       "    <tr>\n",
       "      <th>1</th>\n",
       "      <td>Resort Hotel</td>\n",
       "      <td>0</td>\n",
       "      <td>737</td>\n",
       "      <td>0</td>\n",
       "      <td>0</td>\n",
       "      <td>2</td>\n",
       "      <td>0.0</td>\n",
       "      <td>0</td>\n",
       "      <td>BB</td>\n",
       "      <td>PRT</td>\n",
       "      <td>...</td>\n",
       "      <td>Transient</td>\n",
       "      <td>0.00</td>\n",
       "      <td>0</td>\n",
       "      <td>0</td>\n",
       "      <td>2015-07-01</td>\n",
       "      <td>2015-07-01</td>\n",
       "      <td>1</td>\n",
       "      <td>0.959171</td>\n",
       "      <td>10</td>\n",
       "      <td>0.825615</td>\n",
       "    </tr>\n",
       "    <tr>\n",
       "      <th>80</th>\n",
       "      <td>Resort Hotel</td>\n",
       "      <td>1</td>\n",
       "      <td>368</td>\n",
       "      <td>3</td>\n",
       "      <td>7</td>\n",
       "      <td>2</td>\n",
       "      <td>0.0</td>\n",
       "      <td>0</td>\n",
       "      <td>BB</td>\n",
       "      <td>PRT</td>\n",
       "      <td>...</td>\n",
       "      <td>Contract</td>\n",
       "      <td>55.68</td>\n",
       "      <td>0</td>\n",
       "      <td>0</td>\n",
       "      <td>2015-05-19</td>\n",
       "      <td>2015-07-03</td>\n",
       "      <td>81</td>\n",
       "      <td>0.729545</td>\n",
       "      <td>10</td>\n",
       "      <td>0.684899</td>\n",
       "    </tr>\n",
       "    <tr>\n",
       "      <th>81</th>\n",
       "      <td>Resort Hotel</td>\n",
       "      <td>0</td>\n",
       "      <td>364</td>\n",
       "      <td>3</td>\n",
       "      <td>7</td>\n",
       "      <td>2</td>\n",
       "      <td>0.0</td>\n",
       "      <td>0</td>\n",
       "      <td>BB</td>\n",
       "      <td>GBR</td>\n",
       "      <td>...</td>\n",
       "      <td>Contract</td>\n",
       "      <td>55.68</td>\n",
       "      <td>0</td>\n",
       "      <td>0</td>\n",
       "      <td>2015-07-13</td>\n",
       "      <td>2015-07-03</td>\n",
       "      <td>82</td>\n",
       "      <td>0.724891</td>\n",
       "      <td>10</td>\n",
       "      <td>0.683075</td>\n",
       "    </tr>\n",
       "    <tr>\n",
       "      <th>84</th>\n",
       "      <td>Resort Hotel</td>\n",
       "      <td>0</td>\n",
       "      <td>324</td>\n",
       "      <td>4</td>\n",
       "      <td>10</td>\n",
       "      <td>2</td>\n",
       "      <td>0.0</td>\n",
       "      <td>0</td>\n",
       "      <td>HB</td>\n",
       "      <td>GBR</td>\n",
       "      <td>...</td>\n",
       "      <td>Contract</td>\n",
       "      <td>134.73</td>\n",
       "      <td>0</td>\n",
       "      <td>0</td>\n",
       "      <td>2015-07-17</td>\n",
       "      <td>2015-07-03</td>\n",
       "      <td>85</td>\n",
       "      <td>0.675734</td>\n",
       "      <td>10</td>\n",
       "      <td>0.664531</td>\n",
       "    </tr>\n",
       "    <tr>\n",
       "      <th>...</th>\n",
       "      <td>...</td>\n",
       "      <td>...</td>\n",
       "      <td>...</td>\n",
       "      <td>...</td>\n",
       "      <td>...</td>\n",
       "      <td>...</td>\n",
       "      <td>...</td>\n",
       "      <td>...</td>\n",
       "      <td>...</td>\n",
       "      <td>...</td>\n",
       "      <td>...</td>\n",
       "      <td>...</td>\n",
       "      <td>...</td>\n",
       "      <td>...</td>\n",
       "      <td>...</td>\n",
       "      <td>...</td>\n",
       "      <td>...</td>\n",
       "      <td>...</td>\n",
       "      <td>...</td>\n",
       "      <td>...</td>\n",
       "      <td>...</td>\n",
       "    </tr>\n",
       "    <tr>\n",
       "      <th>113366</th>\n",
       "      <td>City Hotel</td>\n",
       "      <td>0</td>\n",
       "      <td>149</td>\n",
       "      <td>0</td>\n",
       "      <td>4</td>\n",
       "      <td>2</td>\n",
       "      <td>0.0</td>\n",
       "      <td>0</td>\n",
       "      <td>BB</td>\n",
       "      <td>ESP</td>\n",
       "      <td>...</td>\n",
       "      <td>Transient</td>\n",
       "      <td>84.60</td>\n",
       "      <td>0</td>\n",
       "      <td>0</td>\n",
       "      <td>2017-09-03</td>\n",
       "      <td>2017-08-30</td>\n",
       "      <td>119343</td>\n",
       "      <td>0.427459</td>\n",
       "      <td>8</td>\n",
       "      <td>0.469902</td>\n",
       "    </tr>\n",
       "    <tr>\n",
       "      <th>113391</th>\n",
       "      <td>City Hotel</td>\n",
       "      <td>0</td>\n",
       "      <td>175</td>\n",
       "      <td>1</td>\n",
       "      <td>3</td>\n",
       "      <td>2</td>\n",
       "      <td>0.0</td>\n",
       "      <td>0</td>\n",
       "      <td>BB</td>\n",
       "      <td>NLD</td>\n",
       "      <td>...</td>\n",
       "      <td>Transient</td>\n",
       "      <td>86.85</td>\n",
       "      <td>0</td>\n",
       "      <td>2</td>\n",
       "      <td>2017-09-04</td>\n",
       "      <td>2017-08-31</td>\n",
       "      <td>119371</td>\n",
       "      <td>0.465125</td>\n",
       "      <td>8</td>\n",
       "      <td>0.464666</td>\n",
       "    </tr>\n",
       "    <tr>\n",
       "      <th>113392</th>\n",
       "      <td>City Hotel</td>\n",
       "      <td>0</td>\n",
       "      <td>175</td>\n",
       "      <td>1</td>\n",
       "      <td>3</td>\n",
       "      <td>1</td>\n",
       "      <td>0.0</td>\n",
       "      <td>0</td>\n",
       "      <td>BB</td>\n",
       "      <td>NLD</td>\n",
       "      <td>...</td>\n",
       "      <td>Transient</td>\n",
       "      <td>82.35</td>\n",
       "      <td>0</td>\n",
       "      <td>1</td>\n",
       "      <td>2017-09-04</td>\n",
       "      <td>2017-08-31</td>\n",
       "      <td>119372</td>\n",
       "      <td>0.465125</td>\n",
       "      <td>8</td>\n",
       "      <td>0.464666</td>\n",
       "    </tr>\n",
       "    <tr>\n",
       "      <th>113395</th>\n",
       "      <td>City Hotel</td>\n",
       "      <td>0</td>\n",
       "      <td>165</td>\n",
       "      <td>1</td>\n",
       "      <td>5</td>\n",
       "      <td>3</td>\n",
       "      <td>0.0</td>\n",
       "      <td>0</td>\n",
       "      <td>BB</td>\n",
       "      <td>AUT</td>\n",
       "      <td>...</td>\n",
       "      <td>Transient</td>\n",
       "      <td>209.25</td>\n",
       "      <td>0</td>\n",
       "      <td>3</td>\n",
       "      <td>2017-09-04</td>\n",
       "      <td>2017-08-29</td>\n",
       "      <td>119376</td>\n",
       "      <td>0.450567</td>\n",
       "      <td>8</td>\n",
       "      <td>0.466679</td>\n",
       "    </tr>\n",
       "    <tr>\n",
       "      <th>113402</th>\n",
       "      <td>City Hotel</td>\n",
       "      <td>0</td>\n",
       "      <td>164</td>\n",
       "      <td>2</td>\n",
       "      <td>4</td>\n",
       "      <td>2</td>\n",
       "      <td>0.0</td>\n",
       "      <td>0</td>\n",
       "      <td>BB</td>\n",
       "      <td>DEU</td>\n",
       "      <td>...</td>\n",
       "      <td>Transient</td>\n",
       "      <td>87.60</td>\n",
       "      <td>0</td>\n",
       "      <td>0</td>\n",
       "      <td>2017-09-06</td>\n",
       "      <td>2017-08-31</td>\n",
       "      <td>119383</td>\n",
       "      <td>0.449115</td>\n",
       "      <td>8</td>\n",
       "      <td>0.466880</td>\n",
       "    </tr>\n",
       "  </tbody>\n",
       "</table>\n",
       "<p>113409 rows × 32 columns</p>\n",
       "</div>"
      ],
      "text/plain": [
       "               hotel  is_cancelled  lead_time  stays_in_weekend_nights  \\\n",
       "0       Resort Hotel             0        342                        0   \n",
       "1       Resort Hotel             0        737                        0   \n",
       "80      Resort Hotel             1        368                        3   \n",
       "81      Resort Hotel             0        364                        3   \n",
       "84      Resort Hotel             0        324                        4   \n",
       "...              ...           ...        ...                      ...   \n",
       "113366    City Hotel             0        149                        0   \n",
       "113391    City Hotel             0        175                        1   \n",
       "113392    City Hotel             0        175                        1   \n",
       "113395    City Hotel             0        165                        1   \n",
       "113402    City Hotel             0        164                        2   \n",
       "\n",
       "        stays_in_week_nights  adults  children  babies meal country  ...  \\\n",
       "0                          0       2       0.0       0   BB     PRT  ...   \n",
       "1                          0       2       0.0       0   BB     PRT  ...   \n",
       "80                         7       2       0.0       0   BB     PRT  ...   \n",
       "81                         7       2       0.0       0   BB     GBR  ...   \n",
       "84                        10       2       0.0       0   HB     GBR  ...   \n",
       "...                      ...     ...       ...     ...  ...     ...  ...   \n",
       "113366                     4       2       0.0       0   BB     ESP  ...   \n",
       "113391                     3       2       0.0       0   BB     NLD  ...   \n",
       "113392                     3       1       0.0       0   BB     NLD  ...   \n",
       "113395                     5       3       0.0       0   BB     AUT  ...   \n",
       "113402                     4       2       0.0       0   BB     DEU  ...   \n",
       "\n",
       "       customer_type     adr  required_car_parking_spaces  \\\n",
       "0          Transient    0.00                            0   \n",
       "1          Transient    0.00                            0   \n",
       "80          Contract   55.68                            0   \n",
       "81          Contract   55.68                            0   \n",
       "84          Contract  134.73                            0   \n",
       "...              ...     ...                          ...   \n",
       "113366     Transient   84.60                            0   \n",
       "113391     Transient   86.85                            0   \n",
       "113392     Transient   82.35                            0   \n",
       "113395     Transient  209.25                            0   \n",
       "113402     Transient   87.60                            0   \n",
       "\n",
       "        total_of_special_requests  reservation_status_date arrival_date  \\\n",
       "0                               0               2015-07-01   2015-07-01   \n",
       "1                               0               2015-07-01   2015-07-01   \n",
       "80                              0               2015-05-19   2015-07-03   \n",
       "81                              0               2015-07-13   2015-07-03   \n",
       "84                              0               2015-07-17   2015-07-03   \n",
       "...                           ...                      ...          ...   \n",
       "113366                          0               2017-09-03   2017-08-30   \n",
       "113391                          2               2017-09-04   2017-08-31   \n",
       "113392                          1               2017-09-04   2017-08-31   \n",
       "113395                          3               2017-09-04   2017-08-29   \n",
       "113402                          0               2017-09-06   2017-08-31   \n",
       "\n",
       "       id_booking  pred_lead_time cat_lead_time  pred_lead_time_cat  \n",
       "0               0        0.698426            10            0.672943  \n",
       "1               1        0.959171            10            0.825615  \n",
       "80             81        0.729545            10            0.684899  \n",
       "81             82        0.724891            10            0.683075  \n",
       "84             85        0.675734            10            0.664531  \n",
       "...           ...             ...           ...                 ...  \n",
       "113366     119343        0.427459             8            0.469902  \n",
       "113391     119371        0.465125             8            0.464666  \n",
       "113392     119372        0.465125             8            0.464666  \n",
       "113395     119376        0.450567             8            0.466679  \n",
       "113402     119383        0.449115             8            0.466880  \n",
       "\n",
       "[113409 rows x 32 columns]"
      ]
     },
     "execution_count": 90,
     "metadata": {},
     "output_type": "execute_result"
    }
   ],
   "source": [
    "tb_hotel2 # Tabela com o resultado da Regressão por categoria"
   ]
  },
  {
   "cell_type": "code",
   "execution_count": 91,
   "metadata": {},
   "outputs": [
    {
     "data": {
      "text/plain": [
       "<AxesSubplot:xlabel='lead_time', ylabel='pred_lead_time'>"
      ]
     },
     "execution_count": 91,
     "metadata": {},
     "output_type": "execute_result"
    },
    {
     "data": {
      "image/png": "[encoded data removed]",
      "text/plain": [
       "<Figure size 432x288 with 1 Axes>"
      ]
     },
     "metadata": {
      "needs_background": "light"
     },
     "output_type": "display_data"
    }
   ],
   "source": [
    "sns.scatterplot(data=tb_hotel2, x='lead_time', y='pred_lead_time')\n",
    "sns.scatterplot(data=tb_hotel2, x='lead_time', y='pred_lead_time_cat')"
   ]
  },
  {
   "cell_type": "code",
   "execution_count": 80,
   "metadata": {},
   "outputs": [],
   "source": [
    "is_canc_comparison['pred_is_canceled_cat'] = tb_hotel2['pred_lead_time_cat']"
   ]
  },
  {
   "cell_type": "code",
   "execution_count": 81,
   "metadata": {},
   "outputs": [
    {
     "data": {
      "text/html": [
       "<div>\n",
       "<style scoped>\n",
       "    .dataframe tbody tr th:only-of-type {\n",
       "        vertical-align: middle;\n",
       "    }\n",
       "\n",
       "    .dataframe tbody tr th {\n",
       "        vertical-align: top;\n",
       "    }\n",
       "\n",
       "    .dataframe thead th {\n",
       "        text-align: right;\n",
       "    }\n",
       "</style>\n",
       "<table border=\"1\" class=\"dataframe\">\n",
       "  <thead>\n",
       "    <tr style=\"text-align: right;\">\n",
       "      <th></th>\n",
       "      <th>cat_lead_time</th>\n",
       "      <th>is_cancelled</th>\n",
       "      <th>pred_is_canceled</th>\n",
       "      <th>diff_pred</th>\n",
       "      <th>pred_is_canceled_cat</th>\n",
       "    </tr>\n",
       "  </thead>\n",
       "  <tbody>\n",
       "    <tr>\n",
       "      <th>0</th>\n",
       "      <td>1</td>\n",
       "      <td>0.083500</td>\n",
       "      <td>0.238562</td>\n",
       "      <td>-0.155062</td>\n",
       "      <td>0.672943</td>\n",
       "    </tr>\n",
       "    <tr>\n",
       "      <th>1</th>\n",
       "      <td>2</td>\n",
       "      <td>0.159411</td>\n",
       "      <td>0.245133</td>\n",
       "      <td>-0.085722</td>\n",
       "      <td>0.825615</td>\n",
       "    </tr>\n",
       "    <tr>\n",
       "      <th>2</th>\n",
       "      <td>3</td>\n",
       "      <td>0.285714</td>\n",
       "      <td>0.258172</td>\n",
       "      <td>0.027542</td>\n",
       "      <td>0.154126</td>\n",
       "    </tr>\n",
       "    <tr>\n",
       "      <th>3</th>\n",
       "      <td>4</td>\n",
       "      <td>0.358924</td>\n",
       "      <td>0.277895</td>\n",
       "      <td>0.081029</td>\n",
       "      <td>0.242863</td>\n",
       "    </tr>\n",
       "    <tr>\n",
       "      <th>4</th>\n",
       "      <td>5</td>\n",
       "      <td>0.383482</td>\n",
       "      <td>0.303787</td>\n",
       "      <td>0.079695</td>\n",
       "      <td>0.249683</td>\n",
       "    </tr>\n",
       "    <tr>\n",
       "      <th>5</th>\n",
       "      <td>6</td>\n",
       "      <td>0.407999</td>\n",
       "      <td>0.338578</td>\n",
       "      <td>0.069420</td>\n",
       "      <td>0.249683</td>\n",
       "    </tr>\n",
       "    <tr>\n",
       "      <th>6</th>\n",
       "      <td>7</td>\n",
       "      <td>0.432777</td>\n",
       "      <td>0.384374</td>\n",
       "      <td>0.048403</td>\n",
       "      <td>0.070440</td>\n",
       "    </tr>\n",
       "    <tr>\n",
       "      <th>7</th>\n",
       "      <td>8</td>\n",
       "      <td>0.466201</td>\n",
       "      <td>0.445024</td>\n",
       "      <td>0.021176</td>\n",
       "      <td>0.192273</td>\n",
       "    </tr>\n",
       "    <tr>\n",
       "      <th>8</th>\n",
       "      <td>9</td>\n",
       "      <td>0.474881</td>\n",
       "      <td>0.531382</td>\n",
       "      <td>-0.056501</td>\n",
       "      <td>0.408808</td>\n",
       "    </tr>\n",
       "    <tr>\n",
       "      <th>9</th>\n",
       "      <td>10</td>\n",
       "      <td>0.673058</td>\n",
       "      <td>0.691394</td>\n",
       "      <td>-0.018336</td>\n",
       "      <td>0.385841</td>\n",
       "    </tr>\n",
       "  </tbody>\n",
       "</table>\n",
       "</div>"
      ],
      "text/plain": [
       "  cat_lead_time  is_cancelled  pred_is_canceled  diff_pred  \\\n",
       "0             1      0.083500          0.238562  -0.155062   \n",
       "1             2      0.159411          0.245133  -0.085722   \n",
       "2             3      0.285714          0.258172   0.027542   \n",
       "3             4      0.358924          0.277895   0.081029   \n",
       "4             5      0.383482          0.303787   0.079695   \n",
       "5             6      0.407999          0.338578   0.069420   \n",
       "6             7      0.432777          0.384374   0.048403   \n",
       "7             8      0.466201          0.445024   0.021176   \n",
       "8             9      0.474881          0.531382  -0.056501   \n",
       "9            10      0.673058          0.691394  -0.018336   \n",
       "\n",
       "   pred_is_canceled_cat  \n",
       "0              0.672943  \n",
       "1              0.825615  \n",
       "2              0.154126  \n",
       "3              0.242863  \n",
       "4              0.249683  \n",
       "5              0.249683  \n",
       "6              0.070440  \n",
       "7              0.192273  \n",
       "8              0.408808  \n",
       "9              0.385841  "
      ]
     },
     "execution_count": 81,
     "metadata": {},
     "output_type": "execute_result"
    }
   ],
   "source": [
    "is_canc_comparison"
   ]
  },
  {
   "cell_type": "code",
   "execution_count": 82,
   "metadata": {},
   "outputs": [],
   "source": [
    "is_canc_comparison['diff_ped_cat'] = is_canc_comparison['is_cancelled'] - is_canc_comparison['pred_is_canceled_cat']"
   ]
  },
  {
   "cell_type": "code",
   "execution_count": 83,
   "metadata": {},
   "outputs": [
    {
     "data": {
      "text/html": [
       "<div>\n",
       "<style scoped>\n",
       "    .dataframe tbody tr th:only-of-type {\n",
       "        vertical-align: middle;\n",
       "    }\n",
       "\n",
       "    .dataframe tbody tr th {\n",
       "        vertical-align: top;\n",
       "    }\n",
       "\n",
       "    .dataframe thead th {\n",
       "        text-align: right;\n",
       "    }\n",
       "</style>\n",
       "<table border=\"1\" class=\"dataframe\">\n",
       "  <thead>\n",
       "    <tr style=\"text-align: right;\">\n",
       "      <th></th>\n",
       "      <th>cat_lead_time</th>\n",
       "      <th>is_cancelled</th>\n",
       "      <th>pred_is_canceled</th>\n",
       "      <th>diff_pred</th>\n",
       "      <th>pred_is_canceled_cat</th>\n",
       "      <th>diff_ped_cat</th>\n",
       "    </tr>\n",
       "  </thead>\n",
       "  <tbody>\n",
       "    <tr>\n",
       "      <th>0</th>\n",
       "      <td>1</td>\n",
       "      <td>0.083500</td>\n",
       "      <td>0.238562</td>\n",
       "      <td>-0.155062</td>\n",
       "      <td>0.672943</td>\n",
       "      <td>-0.589443</td>\n",
       "    </tr>\n",
       "    <tr>\n",
       "      <th>1</th>\n",
       "      <td>2</td>\n",
       "      <td>0.159411</td>\n",
       "      <td>0.245133</td>\n",
       "      <td>-0.085722</td>\n",
       "      <td>0.825615</td>\n",
       "      <td>-0.666204</td>\n",
       "    </tr>\n",
       "    <tr>\n",
       "      <th>2</th>\n",
       "      <td>3</td>\n",
       "      <td>0.285714</td>\n",
       "      <td>0.258172</td>\n",
       "      <td>0.027542</td>\n",
       "      <td>0.154126</td>\n",
       "      <td>0.131588</td>\n",
       "    </tr>\n",
       "    <tr>\n",
       "      <th>3</th>\n",
       "      <td>4</td>\n",
       "      <td>0.358924</td>\n",
       "      <td>0.277895</td>\n",
       "      <td>0.081029</td>\n",
       "      <td>0.242863</td>\n",
       "      <td>0.116061</td>\n",
       "    </tr>\n",
       "    <tr>\n",
       "      <th>4</th>\n",
       "      <td>5</td>\n",
       "      <td>0.383482</td>\n",
       "      <td>0.303787</td>\n",
       "      <td>0.079695</td>\n",
       "      <td>0.249683</td>\n",
       "      <td>0.133799</td>\n",
       "    </tr>\n",
       "    <tr>\n",
       "      <th>5</th>\n",
       "      <td>6</td>\n",
       "      <td>0.407999</td>\n",
       "      <td>0.338578</td>\n",
       "      <td>0.069420</td>\n",
       "      <td>0.249683</td>\n",
       "      <td>0.158315</td>\n",
       "    </tr>\n",
       "    <tr>\n",
       "      <th>6</th>\n",
       "      <td>7</td>\n",
       "      <td>0.432777</td>\n",
       "      <td>0.384374</td>\n",
       "      <td>0.048403</td>\n",
       "      <td>0.070440</td>\n",
       "      <td>0.362337</td>\n",
       "    </tr>\n",
       "    <tr>\n",
       "      <th>7</th>\n",
       "      <td>8</td>\n",
       "      <td>0.466201</td>\n",
       "      <td>0.445024</td>\n",
       "      <td>0.021176</td>\n",
       "      <td>0.192273</td>\n",
       "      <td>0.273928</td>\n",
       "    </tr>\n",
       "    <tr>\n",
       "      <th>8</th>\n",
       "      <td>9</td>\n",
       "      <td>0.474881</td>\n",
       "      <td>0.531382</td>\n",
       "      <td>-0.056501</td>\n",
       "      <td>0.408808</td>\n",
       "      <td>0.066073</td>\n",
       "    </tr>\n",
       "    <tr>\n",
       "      <th>9</th>\n",
       "      <td>10</td>\n",
       "      <td>0.673058</td>\n",
       "      <td>0.691394</td>\n",
       "      <td>-0.018336</td>\n",
       "      <td>0.385841</td>\n",
       "      <td>0.287217</td>\n",
       "    </tr>\n",
       "  </tbody>\n",
       "</table>\n",
       "</div>"
      ],
      "text/plain": [
       "  cat_lead_time  is_cancelled  pred_is_canceled  diff_pred  \\\n",
       "0             1      0.083500          0.238562  -0.155062   \n",
       "1             2      0.159411          0.245133  -0.085722   \n",
       "2             3      0.285714          0.258172   0.027542   \n",
       "3             4      0.358924          0.277895   0.081029   \n",
       "4             5      0.383482          0.303787   0.079695   \n",
       "5             6      0.407999          0.338578   0.069420   \n",
       "6             7      0.432777          0.384374   0.048403   \n",
       "7             8      0.466201          0.445024   0.021176   \n",
       "8             9      0.474881          0.531382  -0.056501   \n",
       "9            10      0.673058          0.691394  -0.018336   \n",
       "\n",
       "   pred_is_canceled_cat  diff_ped_cat  \n",
       "0              0.672943     -0.589443  \n",
       "1              0.825615     -0.666204  \n",
       "2              0.154126      0.131588  \n",
       "3              0.242863      0.116061  \n",
       "4              0.249683      0.133799  \n",
       "5              0.249683      0.158315  \n",
       "6              0.070440      0.362337  \n",
       "7              0.192273      0.273928  \n",
       "8              0.408808      0.066073  \n",
       "9              0.385841      0.287217  "
      ]
     },
     "execution_count": 83,
     "metadata": {},
     "output_type": "execute_result"
    }
   ],
   "source": [
    "is_canc_comparison"
   ]
  },
  {
   "cell_type": "code",
   "execution_count": null,
   "metadata": {},
   "outputs": [],
   "source": []
  }
 ],
 "metadata": {
  "interpreter": {
   "hash": "014f4a4a5af8f0104b12c029e500f4146d6d785e8cf714d2a35b7a9514230cd3"
  },
  "kernelspec": {
   "display_name": "Python 3 (ipykernel)",
   "language": "python",
   "name": "python3"
  },
  "language_info": {
   "codemirror_mode": {
    "name": "ipython",
    "version": 3
   },
   "file_extension": ".py",
   "mimetype": "text/x-python",
   "name": "python",
   "nbconvert_exporter": "python",
   "pygments_lexer": "ipython3",
   "version": "3.8.13"
  }
 },
 "nbformat": 4,
 "nbformat_minor": 4
}
